{
  "metadata": {
    "language_info": {
      "codemirror_mode": {
        "name": "python",
        "version": 3
      },
      "file_extension": ".py",
      "mimetype": "text/x-python",
      "name": "python",
      "nbconvert_exporter": "python",
      "pygments_lexer": "ipython3",
      "version": "3.8"
    },
    "kernelspec": {
      "name": "python",
      "display_name": "Python (Pyodide)",
      "language": "python"
    }
  },
  "nbformat_minor": 4,
  "nbformat": 4,
  "cells": [
    {
      "cell_type": "markdown",
      "source": "* Find K most occcuring elements in the given array \n\n* Given an integer array nums and an integer k, return the k most frequent elements. You may return the answer in any order.\n\nExample 1:\nInput: nums = [1,1,1,2,2,3], k = 2\nOutput: [1,2]\n\nExample 2:\nInput: nums = [1], k = 1\nOutput: [1]",
      "metadata": {}
    },
    {
      "cell_type": "code",
      "source": "tc=o(nlog n)\nsc= o(n)\n#method def \n    def topKFrequent(nums,k):\n        #creating dict\n        seen={}\n        #traverse through array\n        for num in nums:\n            # if num already present in seen\n            if num in seen:\n                # increase frequeny by 1\n                seen[num]+=1\n            else:\n                # if it come first then assign the frequency set to 1\n                seen[num]=1\n                \n        return(sorted(seen.keys(),key=seen.get, reverse=True)[:k])            \n#seen.keys() -- returns a list of all the keys in the dictionary seen\n#reverse=True-- is used to sort the keys in descending order (highest values first).\n#[:k]-- is a slice notation that returns the first k elements of the sorted list.\n\n\n#driver code\nnums=[1,1,1,2,2,3]\nk=2\ntopKFrequent(nums,k)\n",
      "metadata": {
        "trusted": true
      },
      "execution_count": 1,
      "outputs": [
        {
          "execution_count": 1,
          "output_type": "execute_result",
          "data": {
            "text/plain": "[1, 2]"
          },
          "metadata": {}
        }
      ]
    },
    {
      "cell_type": "code",
      "source": "",
      "metadata": {},
      "execution_count": null,
      "outputs": []
    }
  ]
}