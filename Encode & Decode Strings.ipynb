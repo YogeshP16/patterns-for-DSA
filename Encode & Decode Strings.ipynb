{
  "metadata": {
    "language_info": {
      "codemirror_mode": {
        "name": "python",
        "version": 3
      },
      "file_extension": ".py",
      "mimetype": "text/x-python",
      "name": "python",
      "nbconvert_exporter": "python",
      "pygments_lexer": "ipython3",
      "version": "3.8"
    },
    "kernelspec": {
      "name": "python",
      "display_name": "Python (Pyodide)",
      "language": "python"
    }
  },
  "nbformat_minor": 4,
  "nbformat": 4,
  "cells": [
    {
      "cell_type": "markdown",
      "source": "Design an algorithm to encode a list of strings to a string. The encoded string is then sent over the network and is decoded back to the original list of strings. Please implement encode and decode\nExample1\n\nInput: [“lint”,“code”,“love”,“you”] \nOutput: [“lint”,“code”,“love”,“you”] \nExplanation: One possible encode method is: “lint:;code:;love:;you”",
      "metadata": {}
    },
    {
      "cell_type": "code",
      "source": "tc=O(n)\nsc=O(n)\n\n# Define encode and decode methods here\n\ndef encode(strs):\n    res=''\n    for s in strs:\n        res += str(len(s)) + \"#\" + s\n    return res\n\n\ndef decode(s):\n    res=[]\n    i=0\n    while i < len(s):\n        j=i\n        while s[j] != \"#\":\n            j+=1\n        length=int(s[i:j])\n        res.append(s[j+1:j+1+length])\n        i=j+1+length\n    return res\n\n# Define input list of strings\nstrs = [\"lint\", \"code\", \"love\", \"you\"]\n\n# Encode the list of strings\nencoded_str = encode(strs)\n\n# Print the encoded string\nprint(encoded_str)\n\n# Decode the encoded string\ndecoded_strs = decode(encoded_str)\n\n# Print the decoded list of strings\nprint(decoded_strs)\n",
      "metadata": {
        "trusted": true
      },
      "execution_count": 4,
      "outputs": [
        {
          "name": "stdout",
          "text": "4#lint4#code4#love3#you\n['lint', 'code', 'love', 'you']\n",
          "output_type": "stream"
        }
      ]
    },
    {
      "cell_type": "code",
      "source": "",
      "metadata": {},
      "execution_count": null,
      "outputs": []
    }
  ]
}