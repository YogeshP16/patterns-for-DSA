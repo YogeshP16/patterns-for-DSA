{
  "metadata": {
    "language_info": {
      "codemirror_mode": {
        "name": "python",
        "version": 3
      },
      "file_extension": ".py",
      "mimetype": "text/x-python",
      "name": "python",
      "nbconvert_exporter": "python",
      "pygments_lexer": "ipython3",
      "version": "3.8"
    },
    "kernelspec": {
      "name": "python",
      "display_name": "Python (Pyodide)",
      "language": "python"
    }
  },
  "nbformat_minor": 4,
  "nbformat": 4,
  "cells": [
    {
      "cell_type": "markdown",
      "source": "Given a 1-indexed array of integers numbers that is already sorted in non-decreasing order, find two numbers such that they add up to a specific target number. Let these two numbers be numbers[index1] and numbers[index2] where 1 <= index1 < index2 <= numbers.length.\nReturn the indices of the two numbers, index1 and index2, added by one as an integer array [index1, index2] of length 2.\nThe tests are generated such that there is exactly one solution. You may not use the same element twice.\nYour solution must use only constant extra space.\n\nExample 1:\n\nInput: numbers = [2,7,11,15], target = 9\nOutput: [1,2]\nExplanation: The sum of 2 and 7 is 9. Therefore, index1 = 1, index2 = 2. We return [1, 2].",
      "metadata": {}
    },
    {
      "cell_type": "code",
      "source": "\n#method def \ndef twosum2(numbers,target):\n    #int two pointer left and right\n    i=0\n    j=len(numbers)-1\n    while i<j:\n        #calculate the sum curr left and right\n        curr_sum=numbers[i]+numbers[j]\n        #curr sum equal to target\n        #ret left , right index value\n        if curr_sum==target:\n            return [i+1,j+1]\n        #if currsum less than target \n        #inc left pointer\n        elif curr_sum<target:\n            i+=1\n            #if curr sum greater than target \n            #dec right pointer\n        else:\n            j-=1\n            #if no pair found\n    return None    \n    \n#driver code\nnumbers = [2,7,11,15]\ntarget = 9\nprint(twosum2(numbers,target))",
      "metadata": {
        "trusted": true
      },
      "execution_count": 4,
      "outputs": [
        {
          "name": "stdout",
          "text": "[1, 2]\n",
          "output_type": "stream"
        }
      ]
    },
    {
      "cell_type": "code",
      "source": "",
      "metadata": {},
      "execution_count": null,
      "outputs": []
    }
  ]
}