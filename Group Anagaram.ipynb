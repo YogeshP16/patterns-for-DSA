{
  "metadata": {
    "language_info": {
      "codemirror_mode": {
        "name": "python",
        "version": 3
      },
      "file_extension": ".py",
      "mimetype": "text/x-python",
      "name": "python",
      "nbconvert_exporter": "python",
      "pygments_lexer": "ipython3",
      "version": "3.8"
    },
    "kernelspec": {
      "name": "python",
      "display_name": "Python (Pyodide)",
      "language": "python"
    }
  },
  "nbformat_minor": 4,
  "nbformat": 4,
  "cells": [
    {
      "cell_type": "markdown",
      "source": "Given an array of strings strs, group the anagrams together. You can return the answer in any order.\n\nExample 1:\nInput: strs = [\"eat\",\"tea\",\"tan\",\"ate\",\"nat\",\"bat\"]\nOutput: [[\"bat\"],[\"nat\",\"tan\"],[\"ate\",\"eat\",\"tea\"]]\n",
      "metadata": {}
    },
    {
      "cell_type": "code",
      "source": "tc= O(n*m)\nsc=O(n)\n#method def\ndef groupanagaram(strs):\n    #creating hashmap\n    d={}\n    for i in range (len(strs)):\n        #this will sort each character in the string\n        #and rearrange them in lexicograpically\n        #ex- bga--> abg\n        \n        x=''.join(sorted(strs[i]))\n        \n        #check whether the sorted string (x) is an existing key in the dictionary,\n        \n        if x not in d:\n            \n            #append the original string to the array stored under \n            #the key in the dictionary\n            \n            d[x]=[strs[i]]\n        else:\n            \n            #create a new key in the dictionary with the sorted\n            #string as a key + append the original string (in an array) as a value   \n            \n            d[x].append(strs[i])\n    return d.values()       \n#driver code\nstrs = [\"eat\",\"tea\",\"tan\",\"ate\",\"nat\",\"bat\"]\ngroupanagaram(strs)\n    ",
      "metadata": {
        "trusted": true
      },
      "execution_count": 1,
      "outputs": [
        {
          "execution_count": 1,
          "output_type": "execute_result",
          "data": {
            "text/plain": "dict_values([['eat', 'tea', 'ate'], ['tan', 'nat'], ['bat']])"
          },
          "metadata": {}
        }
      ]
    },
    {
      "cell_type": "code",
      "source": "",
      "metadata": {},
      "execution_count": null,
      "outputs": []
    }
  ]
}