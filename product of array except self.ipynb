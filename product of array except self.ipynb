{
  "metadata": {
    "language_info": {
      "codemirror_mode": {
        "name": "python",
        "version": 3
      },
      "file_extension": ".py",
      "mimetype": "text/x-python",
      "name": "python",
      "nbconvert_exporter": "python",
      "pygments_lexer": "ipython3",
      "version": "3.8"
    },
    "kernelspec": {
      "name": "python",
      "display_name": "Python (Pyodide)",
      "language": "python"
    }
  },
  "nbformat_minor": 4,
  "nbformat": 4,
  "cells": [
    {
      "cell_type": "markdown",
      "source": "Given an integer array nums, return an array answer such that answer[i] is equal to the product of all the elements of nums except nums[i].\n\nThe product of any prefix or suffix of nums is guaranteed to fit in a 32-bit integer.\n\nYou must write an algorithm that runs in O(n) time and without using the division operation.\nExample 1:\n\nInput: nums = [1,2,3,4]\nOutput: [24,12,8,6]",
      "metadata": {}
    },
    {
      "cell_type": "code",
      "source": "tc=O(n)\nsc=O(n)\n#method def\ndef productarr(nums):\n    #creating list and initialize with 1 and mnultiply with length of the array\n    final=[1]*len(nums)\n    #updating prefix variable as 1\n    pre=1\n    #traverse forward direction\n    for i in range(len(nums)):\n        #updating prefix\n        final[i]=pre\n        #pre -- multliply with cuurent value\n        pre=pre*nums[i]\n        #int suffix value\n    suf=1\n    #traverse in reverse direction,  -1--check the 0th index value\n    # -1 -- to dec the iteration\n    for i in range(len(nums)-1,-1,-1):\n        #multiply final result with suffix\n        final[i]=final[i]*suf\n        #multiply current value with suffix\n        suf=suf*nums[i]\n    return final    \n\n#driver code\nnums=[1,2,3,4]\nprint(productarr(nums))",
      "metadata": {
        "trusted": true
      },
      "execution_count": 3,
      "outputs": [
        {
          "name": "stdout",
          "text": "[24, 12, 8, 6]\n",
          "output_type": "stream"
        }
      ]
    },
    {
      "cell_type": "code",
      "source": "",
      "metadata": {},
      "execution_count": null,
      "outputs": []
    }
  ]
}