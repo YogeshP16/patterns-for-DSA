{
  "metadata": {
    "language_info": {
      "codemirror_mode": {
        "name": "python",
        "version": 3
      },
      "file_extension": ".py",
      "mimetype": "text/x-python",
      "name": "python",
      "nbconvert_exporter": "python",
      "pygments_lexer": "ipython3",
      "version": "3.8"
    },
    "kernelspec": {
      "name": "python",
      "display_name": "Python (Pyodide)",
      "language": "python"
    }
  },
  "nbformat_minor": 4,
  "nbformat": 4,
  "cells": [
    {
      "cell_type": "markdown",
      "source": "You are given an array prices where prices[i] is the price of a given stock on the ith day.\nYou want to maximize your profit by choosing a single day to buy one stock and choosing a different day in the future to sell that stock.\nReturn the maximum profit you can achieve from this transaction. If you cannot achieve any profit, return 0.\nExample 1:\n\nInput: prices = [7,1,5,3,6,4]\nOutput: 5\nExplanation: Buy on day 2 (price = 1) and sell on day 5 (price = 6), profit = 6-1 = 5.\nNote that buying on day 2 and selling on day 1 is not allowed because you must buy before you sell.",
      "metadata": {}
    },
    {
      "cell_type": "code",
      "source": "TC- O(N)\nSC-O(1)",
      "metadata": {},
      "execution_count": null,
      "outputs": []
    },
    {
      "cell_type": "code",
      "source": "#methos def\ndef buysell(prices):\n    #we set minprice to large number (i.e - minprice =100)\n    minprice =float('inf')\n    #set maxprofit to 0\n    maxprofit =0\n    #traverse the array\n    for i in range(len(prices)):\n        #if 7<100 -- we need to update the minprice from 100 to 7\n        if prices[i] < minprice:\n            #minprice =7\n            minprice=prices[i]\n            #7-7 = 0 > 0\n        elif prices[i] - minprice > maxprofit:\n            #maxp = 7-7 =0, then again loop will move on to next value\n            maxprofit=prices[i]-minprice\n    return maxprofit \n  \n#driver code\nprices = [7,1,5,3,6,4]\nprint(buysell(prices))\n",
      "metadata": {
        "trusted": true
      },
      "execution_count": 5,
      "outputs": [
        {
          "name": "stdout",
          "text": "5\n",
          "output_type": "stream"
        }
      ]
    },
    {
      "cell_type": "code",
      "source": "",
      "metadata": {},
      "execution_count": null,
      "outputs": []
    }
  ]
}