{
  "metadata": {
    "language_info": {
      "codemirror_mode": {
        "name": "python",
        "version": 3
      },
      "file_extension": ".py",
      "mimetype": "text/x-python",
      "name": "python",
      "nbconvert_exporter": "python",
      "pygments_lexer": "ipython3",
      "version": "3.8"
    },
    "kernelspec": {
      "name": "python",
      "display_name": "Python (Pyodide)",
      "language": "python"
    }
  },
  "nbformat_minor": 4,
  "nbformat": 4,
  "cells": [
    {
      "cell_type": "markdown",
      "source": "You are given an integer array height of length n. There are n vertical lines drawn such that the two endpoints of the ith line are (i, 0) and (i, height[i]).\nFind two lines that together with the x-axis form a container, such that the container contains the most water.\nReturn the maximum amount of water a container can store.\nNotice that you may not slant the container.\n\nExample 1:\n\nInput: height = [1,8,6,2,5,4,8,3,7]\nOutput: 49\nExplanation: The above vertical lines are represented by array [1,8,6,2,5,4,8,3,7]. In this case, the max area of water (blue section) the container can contain is 49.",
      "metadata": {}
    },
    {
      "cell_type": "code",
      "source": "#tc=O(n)\nsc-o(1)\n\n#method def\ndef maxarea(height):\n    #int two pointer start, end\n    left=0\n    right=len(height)-1\n    max_area = 0\n    while left < right:\n        #formula for calculating area of container\n        area = min(height[left],height[right])*(right-left)\n        #update the max area -- max of current value and newly calculated area\n        max_area = max(max_area,area)\n        #if left < right --- inc \n        if height[left] < height[right]:\n            left+=1\n        else:\n            right-=1\n            #return max area until area is calculated\n    return max_area      \n    \n#driver code\nheight = [1,8,6,2,5,4,8,3,7]\nprint(maxarea(height))",
      "metadata": {
        "trusted": true
      },
      "execution_count": 3,
      "outputs": [
        {
          "name": "stdout",
          "text": "49\n",
          "output_type": "stream"
        }
      ]
    },
    {
      "cell_type": "code",
      "source": "",
      "metadata": {},
      "execution_count": null,
      "outputs": []
    }
  ]
}