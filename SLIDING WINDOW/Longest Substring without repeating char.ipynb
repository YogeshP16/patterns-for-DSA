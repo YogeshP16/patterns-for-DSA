{
  "metadata": {
    "language_info": {
      "codemirror_mode": {
        "name": "python",
        "version": 3
      },
      "file_extension": ".py",
      "mimetype": "text/x-python",
      "name": "python",
      "nbconvert_exporter": "python",
      "pygments_lexer": "ipython3",
      "version": "3.8"
    },
    "kernelspec": {
      "name": "python",
      "display_name": "Python (Pyodide)",
      "language": "python"
    }
  },
  "nbformat_minor": 4,
  "nbformat": 4,
  "cells": [
    {
      "cell_type": "markdown",
      "source": "Given a string s, find the length of the longest \nsubstring without repeating characters.\nExample 1:\n\nInput: s = \"abcabcbb\"\nOutput: 3\nExplanation: The answer is \"abc\", with the length of 3.\nExample 2:\n\nInput: s = \"bbbbb\"\nOutput: 1\nExplanation: The answer is \"b\", with the length of 1.",
      "metadata": {}
    },
    {
      "cell_type": "code",
      "source": "SLIDING WINDOW APPROACH with HASH SET\nTC=o(n)\nSC=o(n)",
      "metadata": {},
      "execution_count": null,
      "outputs": []
    },
    {
      "cell_type": "code",
      "source": "#method def \ndef longestsubstring(s):\n    #int two pointer right, left\n    left,right=0,0\n    #int hashset to empty\n    charset=set()\n    #int maxlen to 0\n    maxlen=0\n    while right < len(s):\n        #if character at right not in hash set \n        #add the value to hashset and inc the right pointer\n        if s[right] not in charset:\n            charset.add(s[right])\n            right+=1\n        else:\n            #if character at right is in hash set\n            #remove the value at left pointer\n            #inc the left pointer\n            charset.remove(s[left])\n            left+=1\n            #we update current length of the substring between left and right pointer  \n        maxlen=max(maxlen,right-left)\n    return maxlen   \n\n#driver code\ns = \"bbbbb\"\nprint(longestsubstring(s))",
      "metadata": {
        "trusted": true
      },
      "execution_count": 1,
      "outputs": [
        {
          "name": "stdout",
          "text": "1\n",
          "output_type": "stream"
        }
      ]
    },
    {
      "cell_type": "code",
      "source": "",
      "metadata": {},
      "execution_count": null,
      "outputs": []
    }
  ]
}