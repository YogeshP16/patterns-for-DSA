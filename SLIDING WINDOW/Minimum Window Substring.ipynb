{
  "metadata": {
    "language_info": {
      "codemirror_mode": {
        "name": "python",
        "version": 3
      },
      "file_extension": ".py",
      "mimetype": "text/x-python",
      "name": "python",
      "nbconvert_exporter": "python",
      "pygments_lexer": "ipython3",
      "version": "3.8"
    },
    "kernelspec": {
      "name": "python",
      "display_name": "Python (Pyodide)",
      "language": "python"
    }
  },
  "nbformat_minor": 4,
  "nbformat": 4,
  "cells": [
    {
      "cell_type": "markdown",
      "source": "Given two strings s and t of lengths m and n respectively, return the minimum window \nsubstring of s such that every character in t (including duplicates) is included in the window. If there is no such substring, return the empty string \"\".\nThe testcases will be generated such that the answer is unique.\nExample 1:\n\nInput: s = \"ADOBECODEBANC\", t = \"ABC\"\nOutput: \"BANC\"\nExplanation: The minimum window substring \"BANC\" includes 'A', 'B', and 'C' from string t.",
      "metadata": {}
    },
    {
      "cell_type": "markdown",
      "source": "tc = o(n)\nsc=o(n)",
      "metadata": {}
    },
    {
      "cell_type": "code",
      "source": "#method def\ndef minimum_window_substring(s, t):\n    # check if either s or t is empty, then we return empty\n    if not s or not t:\n        return \"\"\n\n    # initialize hash table to store frequency of characters in t\n    hasht = {}\n    # traverse each character c in t and add it to the hash table\n    for c in t:\n        hasht[c] = hasht.get(c, 0) + 1\n\n    # initialize two pointers left and right to 0\n    left, right = 0, 0\n    # initialize counter var to length of t\n    counter = len(t)\n    # initialize two variables to keep track of the min window substring\n    minlen, minstart = len(s), 0\n\n    # traverse string s\n    while right < len(s):\n        # update hash table and counter\n        # for each character at position right, check if it's in hasht\n        if s[right] in hasht:\n            # if it is, decrement the frequency in hasht and the counter\n            if hasht[s[right]] > 0:\n                counter -= 1\n            hasht[s[right]] -= 1\n        right += 1\n\n        # shrink window\n        while counter == 0:\n            # check if the current window is smaller than the min window\n            if right - left < minlen:\n                minlen = right - left\n                minstart = left\n            # update hasht and counter for the leftmost character\n            if s[left] in hasht:\n                hasht[s[left]] += 1\n                if hasht[s[left]] > 0:\n                    counter += 1\n            left += 1\n\n    return \"\" if minlen == len(s) else s[minstart : minstart + minlen]\n    \n# driver code\ns = \"ADOBECODEBANC\"\nt = \"ABC\"\nprint(minimum_window_substring(s, t))  # expected output: \"BANC\"\n",
      "metadata": {
        "trusted": true
      },
      "execution_count": 3,
      "outputs": [
        {
          "name": "stdout",
          "text": "BANC\n",
          "output_type": "stream"
        }
      ]
    },
    {
      "cell_type": "code",
      "source": "",
      "metadata": {},
      "execution_count": null,
      "outputs": []
    }
  ]
}