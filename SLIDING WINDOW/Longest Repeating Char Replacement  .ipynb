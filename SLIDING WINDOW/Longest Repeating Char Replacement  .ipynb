{
  "metadata": {
    "language_info": {
      "codemirror_mode": {
        "name": "python",
        "version": 3
      },
      "file_extension": ".py",
      "mimetype": "text/x-python",
      "name": "python",
      "nbconvert_exporter": "python",
      "pygments_lexer": "ipython3",
      "version": "3.8"
    },
    "kernelspec": {
      "name": "python",
      "display_name": "Python (Pyodide)",
      "language": "python"
    }
  },
  "nbformat_minor": 4,
  "nbformat": 4,
  "cells": [
    {
      "cell_type": "markdown",
      "source": "You are given a string s and an integer k. You can choose any character of the string and change it to any other uppercase English character. You can perform this operation at most k times.\nReturn the length of the longest substring containing the same letter you can get after performing the above operations.\nExample 1:\n\nInput: s = \"ABAB\", k = 2\nOutput: 4\nExplanation: Replace the two 'A's with two 'B's or vice versa.",
      "metadata": {}
    },
    {
      "cell_type": "code",
      "source": "Sliding window approach \ntc= O(n)\nsc=o(n)",
      "metadata": {},
      "execution_count": null,
      "outputs": []
    },
    {
      "cell_type": "code",
      "source": "#method def\ndef charreplace(s):\n    k=2\n    #int left , right pointer of sliding window to 0\n    l=r=0\n    #empty dict to keep track current sliding window values \n    map={}\n    #store len of longest substring\n    res=0\n    #loop through each char using r\n    for r in range(len(s)):\n        #if char not in map(dict) , we add to dict with count of 1\n        if s[r] not in map:\n            map[s[r]] =1\n        else:\n            #if char already in dict, we inc the count by 1\n            map[s[r]]+=1\n            #we calculate the length of the curr window\n        length = r-l+1\n#we check the no of char in current window - the count of most frequent char in window\n#is lessthen or equal  to k\n        if length-max(map.values()) <= k:\n        #if true we update the result\n            res=max(res,length)\n        else:\n            #if condition not true we need to shrink the window by \n            #moving the left pointer and subtract the count in the map\n            map[s[l]]-=1\n            l+=1\n    return res       \n#driver code\ns=\"ABAB\"\nprint(charreplace(s))",
      "metadata": {
        "trusted": true
      },
      "execution_count": 3,
      "outputs": [
        {
          "name": "stdout",
          "text": "4\n",
          "output_type": "stream"
        }
      ]
    },
    {
      "cell_type": "code",
      "source": "",
      "metadata": {},
      "execution_count": null,
      "outputs": []
    }
  ]
}