{
  "metadata": {
    "language_info": {
      "codemirror_mode": {
        "name": "python",
        "version": 3
      },
      "file_extension": ".py",
      "mimetype": "text/x-python",
      "name": "python",
      "nbconvert_exporter": "python",
      "pygments_lexer": "ipython3",
      "version": "3.8"
    },
    "kernelspec": {
      "name": "python",
      "display_name": "Python (Pyodide)",
      "language": "python"
    }
  },
  "nbformat_minor": 4,
  "nbformat": 4,
  "cells": [
    {
      "cell_type": "markdown",
      "source": "You are given an array of integers nums, there is a sliding window of size k which is moving from the very left of the array to the very right. You can only see the k numbers in the window. Each time the sliding window moves right by one position.\nReturn the max sliding window.\nExample 1:\n\nInput: nums = [1,3,-1,-3,5,3,6,7], k = 3\nOutput: [3,3,5,5,6,7]\nExplanation: \nWindow position                Max\n---------------               -----\n[1  3  -1] -3  5  3  6  7       3\n 1 [3  -1  -3] 5  3  6  7       3\n 1  3 [-1  -3  5] 3  6  7       5\n 1  3  -1 [-3  5  3] 6  7       5\n 1  3  -1  -3 [5  3  6] 7       6\n 1  3  -1  -3  5 [3  6  7]      7",
      "metadata": {}
    },
    {
      "cell_type": "code",
      "source": "BRUTE FORCE\nTC= O(N*K)\nSC=O(N-K+1)",
      "metadata": {},
      "execution_count": null,
      "outputs": []
    },
    {
      "cell_type": "code",
      "source": "def sliding_window_max(nums,K):\n    #var n assign to len of input array\n    n = len(nums)\n    #if either n or k ==0 --return empyty list\n    if n * K == 0:\n        return []\n# 1-for i in range(n - K + 1)-- iterates over all possible starting\n   #indices of the sliding window in nums.\n# 2-nums[i:i + K] --slices the subarray of length K starting at index i.\n# 3-max(nums[i:i + K])-- finds the maximum value in the sliced subarray.\n# 4-[max(nums[i:i + K])-- for i in range(n - K + 1)] creates a new list by appending the\n   #maximum value of each sliding window to the list.\n        \n    return [max(nums[i:i + K]) for i in range(n - K + 1)]\n    \n#driver code\nnums = [1,3,-1,-3,5,3,6,7]\nK = 3\nprint(sliding_window_max(nums,K))",
      "metadata": {
        "trusted": true
      },
      "execution_count": 4,
      "outputs": [
        {
          "name": "stdout",
          "text": "[3, 3, 5, 5, 6, 7]\n",
          "output_type": "stream"
        }
      ]
    },
    {
      "cell_type": "markdown",
      "source": "double ended queue (deque) approach\ntc= O(n)\nsc=o(n)",
      "metadata": {}
    },
    {
      "cell_type": "code",
      "source": "from collections import deque\ndef sliding_window_maximum(arr, k):\n    n = len(arr)\n    if k > n:\n        return []\n\n    # Initialize deque with first k elements\n    dq = deque()\n    for i in range(k):\n        while dq and arr[i] >= arr[dq[-1]]:\n            dq.pop()\n        dq.append(i)\n\n    result = [arr[dq[0]]]\n    for i in range(k, n):\n        # Remove elements outside of current window\n        if dq and dq[0] <= i - k:\n            dq.popleft()\n\n        # Remove elements smaller than current element\n        while dq and arr[i] >= arr[dq[-1]]:\n            dq.pop()\n\n        # Add current element to deque\n        dq.append(i)\n\n        result.append(arr[dq[0]])\n\n    return result\n#driver code\narr= [1,3,-1,-3,5,3,6,7]\nk = 3\nprint(sliding_window_maximum(arr,k))\n",
      "metadata": {
        "trusted": true
      },
      "execution_count": 15,
      "outputs": [
        {
          "name": "stdout",
          "text": "[3, 3, 5, 5, 6, 7]\n",
          "output_type": "stream"
        }
      ]
    },
    {
      "cell_type": "code",
      "source": "class Solution:\n    def maxSlidingWindow(self, nums: List[int], k: int) -> List[int]:\n\n        #int empty list - to store max element  of each sliding window\n        output = []\n        #q int to index of sliding window\n        q=collections.deque() \n        l = r = 0  #it represent left , right boundaries\n        while r< len(nums):\n        #pop smaller values from q\n            while q and nums[q[-1]] < nums[r]:\n                q.pop()\n            # current index r is added to q since \n            # it could be the maximum element in a future sliding window.\n            q.append(r)\n        \n        #remove left value from window\n            if l>q[0]:\n                q.popleft()\n        \n            if (r+1)>=k:\n                output.append(nums[q[0]])\n                l+=1\n            r+=1 \n        return output\n        \n            ",
      "metadata": {},
      "execution_count": null,
      "outputs": []
    }
  ]
}