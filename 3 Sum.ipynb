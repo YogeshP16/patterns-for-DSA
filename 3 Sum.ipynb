{
  "metadata": {
    "language_info": {
      "codemirror_mode": {
        "name": "python",
        "version": 3
      },
      "file_extension": ".py",
      "mimetype": "text/x-python",
      "name": "python",
      "nbconvert_exporter": "python",
      "pygments_lexer": "ipython3",
      "version": "3.8"
    },
    "kernelspec": {
      "name": "python",
      "display_name": "Python (Pyodide)",
      "language": "python"
    }
  },
  "nbformat_minor": 4,
  "nbformat": 4,
  "cells": [
    {
      "cell_type": "markdown",
      "source": "Given an integer array nums, return all the triplets [nums[i], nums[j], nums[k]] such that i != j, i != k, and j != k, and nums[i] + nums[j] + nums[k] == 0.\nNotice that the solution set must not contain duplicate triplets.\nExample 1:\n\nInput: nums = [-1,0,1,2,-1,-4]\nOutput: [[-1,-1,2],[-1,0,1]]\nExplanation: \nnums[0] + nums[1] + nums[2] = (-1) + 0 + 1 = 0.\nnums[1] + nums[2] + nums[4] = 0 + 1 + (-1) = 0.\nnums[0] + nums[3] + nums[4] = (-1) + 2 + (-1) = 0.\nThe distinct triplets are [-1,0,1] and [-1,-1,2].\nNotice that the order of the output and the order of the triplets does not matter.",
      "metadata": {}
    },
    {
      "cell_type": "code",
      "source": "#tc=O(n2)\n#sorting- o(nlogn), loops- o(n2)\n#sc- o(1), O(n)\n\n#method def \ndef threesum(nums):\n        #sort input arr into ascend\n    nums.sort()\n    #int empty list\n    res=[]\n    #traverse through 0 to n-2\n    for left in range(len(nums)):\n        #if curr element \"left\" >0 --- exit loop\n        if nums[left]>0:\n            break\n            #if curr element \"left\" same as previous element --- continue\n            #to avoid duplicate\n        if left>0 and nums[left] == nums[left-1]:\n            continue\n            #int two pointer mid , right\n        mid=left+1\n        right=len(nums)-1\n        while mid< right:\n                #calculate sum of 3 elemnts\n            curr_sum=nums[left]+nums[mid]+nums[right]\n                #if curr_sum = 0\n                #add to list and inc the mid and dec the right \n            if curr_sum ==0:\n                res.append([nums[left],nums[mid],nums[right]])\n                mid+=1\n                right-=1\n                while mid < right and nums[mid] == nums [mid-1]:\n                    mid+=1\n                #while mid < right and nums[right]== nums [right+1]:\n                   # right-=1\n            elif curr_sum <0:\n                mid+=1\n            else:\n                right-=1\n    return res       \n                    \n#driver code\nnums = [-1,0,1,2,-1,-4]\nprint(threesum(nums))",
      "metadata": {
        "trusted": true
      },
      "execution_count": null,
      "outputs": []
    },
    {
      "cell_type": "code",
      "source": "def three_sum(nums):\n    nums.sort()\n    result = []\n    for left in range(len(nums) - 2):\n        if nums[left] > 0:\n            break\n        if left > 0 and nums[left] == nums[left - 1]:\n            continue\n        mid, right = left + 1, len(nums) - 1\n        while mid < right:\n            current_sum = nums[left] + nums[mid] + nums[right]\n            if current_sum == 0:\n                result.append([nums[left], nums[mid], nums[right]])\n                mid += 1\n                right -= 1\n                while mid < right and nums[mid] == nums[mid - 1]:\n                    mid += 1\n                while mid < right and nums[right] == nums[right + 1]:\n                    right -= 1\n            elif current_sum < 0:\n                mid += 1\n            else:\n                right -= 1\n    return result\n\n# Driver code\nnums = [-1, 0, 1, 2, -1, -4]\nprint(three_sum(nums))  # Output: [[-1, -1, 2], [-1, 0, 1]]\n",
      "metadata": {
        "trusted": true
      },
      "execution_count": null,
      "outputs": []
    },
    {
      "cell_type": "code",
      "source": "",
      "metadata": {},
      "execution_count": null,
      "outputs": []
    },
    {
      "cell_type": "code",
      "source": "",
      "metadata": {},
      "execution_count": null,
      "outputs": []
    }
  ]
}