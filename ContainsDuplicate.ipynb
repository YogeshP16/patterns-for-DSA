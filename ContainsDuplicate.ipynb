{
  "metadata": {
    "language_info": {
      "codemirror_mode": {
        "name": "python",
        "version": 3
      },
      "file_extension": ".py",
      "mimetype": "text/x-python",
      "name": "python",
      "nbconvert_exporter": "python",
      "pygments_lexer": "ipython3",
      "version": "3.8"
    },
    "kernelspec": {
      "name": "python",
      "display_name": "Python (Pyodide)",
      "language": "python"
    }
  },
  "nbformat_minor": 4,
  "nbformat": 4,
  "cells": [
    {
      "cell_type": "markdown",
      "source": "#Contains Duplicates\n\nGiven an integer array  nums, return true if any value appears at least twice in the array\nand retur false if every elemnet is distinct\ninput = [1,2,3,1]\noutput= true",
      "metadata": {}
    },
    {
      "cell_type": "code",
      "source": "#HASH SET APPROACH \n# time complexity = O(n)\n# space complexity = O(n)\n#method def\ndef containsduplicate(nums):\n    #use to store unique elements\n    unique=set()\n    for i in nums:\n        if i in unique:\n            return True\n        #add current element to set\n        unique.add(i)\n    return False    \n\n#driver code\nnums=[1,3,2]\nprint(containsduplicate(nums))",
      "metadata": {
        "trusted": true
      },
      "execution_count": 1,
      "outputs": [
        {
          "name": "stdout",
          "text": "False\n",
          "output_type": "stream"
        }
      ]
    },
    {
      "cell_type": "code",
      "source": "",
      "metadata": {},
      "execution_count": null,
      "outputs": []
    }
  ]
}