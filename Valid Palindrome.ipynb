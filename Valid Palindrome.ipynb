{
  "metadata": {
    "language_info": {
      "codemirror_mode": {
        "name": "python",
        "version": 3
      },
      "file_extension": ".py",
      "mimetype": "text/x-python",
      "name": "python",
      "nbconvert_exporter": "python",
      "pygments_lexer": "ipython3",
      "version": "3.8"
    },
    "kernelspec": {
      "name": "python",
      "display_name": "Python (Pyodide)",
      "language": "python"
    }
  },
  "nbformat_minor": 4,
  "nbformat": 4,
  "cells": [
    {
      "cell_type": "markdown",
      "source": "A phrase is a palindrome if, after converting all uppercase letters into lowercase letters and removing all non-alphanumeric characters, it reads the same forward and backward. Alphanumeric characters include letters and numbers.\n\nGiven a string s, return true if it is a palindrome, or false otherwise.\nExample 1:\n\nInput: s = \"A man, a plan, a canal: Panama\"\nOutput: true\nExplanation: \"amanaplanacanalpanama\" is a palindrome.",
      "metadata": {}
    },
    {
      "cell_type": "code",
      "source": "#tc=o(n)\n#sc=o(n)\n\n#method def \ndef is_validpal(s):\n    #s.lower--convert string to lowercase\n    #str.isalnum-- remove non-alphanumeric character\n    s=''.join(filter(str.isalnum,s.lower()))\n    l=0\n    r=len(s)-1\n    #set up two pointer\n    while l<r:\n        #if character left and right doesnt match we return false\n        if s[l] != s[r]:\n            return False\n        #moving pointers towards each other\n        #increment the left pointer\n        l+=1\n        #decrement the right pointer\n        r-=1\n    return True   \n\n#driver code\ns = 'A man, a plan, a canal: Panama'\nprint(is_validpal(s))",
      "metadata": {
        "trusted": true
      },
      "execution_count": 13,
      "outputs": [
        {
          "name": "stdout",
          "text": "True\n",
          "output_type": "stream"
        }
      ]
    },
    {
      "cell_type": "code",
      "source": "",
      "metadata": {},
      "execution_count": null,
      "outputs": []
    }
  ]
}