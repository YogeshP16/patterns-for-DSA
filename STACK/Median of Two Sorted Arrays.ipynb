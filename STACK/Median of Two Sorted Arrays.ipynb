{
  "metadata": {
    "language_info": {
      "codemirror_mode": {
        "name": "python",
        "version": 3
      },
      "file_extension": ".py",
      "mimetype": "text/x-python",
      "name": "python",
      "nbconvert_exporter": "python",
      "pygments_lexer": "ipython3",
      "version": "3.8"
    },
    "kernelspec": {
      "name": "python",
      "display_name": "Python (Pyodide)",
      "language": "python"
    }
  },
  "nbformat_minor": 4,
  "nbformat": 4,
  "cells": [
    {
      "cell_type": "markdown",
      "source": "Given two sorted arrays nums1 and nums2 of size m and n respectively, return the median of the two sorted arrays.\nThe overall run time complexity should be O(log (m+n)).\nExample 1:\n\nInput: nums1 = [1,3], nums2 = [2]\nOutput: 2.00000\nExplanation: merged array = [1,2,3] and median is 2.\nExample 2:\n\nInput: nums1 = [1,2], nums2 = [3,4]\nOutput: 2.50000\nExplanation: merged array = [1,2,3,4] and median is (2 + 3) / 2 = 2.5.",
      "metadata": {}
    },
    {
      "cell_type": "markdown",
      "source": "Median: The middle number; found by ordering all data points and picking out the one in the middle (or if there are two middle numbers, taking the mean of those two numbers).\n\nExample: The median of 4, 1, and 7 is 4 because when the numbers are put in order (1, 4, 7), the number 4 is in the middle.",
      "metadata": {}
    },
    {
      "cell_type": "markdown",
      "source": "O(log(min(m, n))), where m and n are the lengths of the input arrays nums1 and nums2,\n\nt avoids the need for merging the arrays or traversing all the elements. Instead, it focuses on finding the correct partitions through binary search.\n\nsc=O(1)",
      "metadata": {}
    },
    {
      "cell_type": "code",
      "source": "def findMedian(nums1, nums2):\n    # Compare the lengths of the two arrays (nums1 and nums2), if not swap the arrays\n    if len(nums1) > len(nums2):\n        nums1, nums2 = nums2, nums1\n\n    # Set variables m and n to the lengths of nums1 and nums2 respectively\n    m, n = len(nums1), len(nums2)\n\n    # Two pointers low and high to perform binary search on nums1\n    low, high = 0, m\n\n    while low <= high:\n        # Calculate the partition indices\n        partition_1 = (low + high) // 2\n        partition_2 = (m + n + 1) // 2 - partition_1\n\n        # Calculate the max and min elements on the left and right sides of the partitions\n        max_left_1 = float('-inf') if partition_1 == 0 else nums1[partition_1 - 1]\n        min_right_1 = float('inf') if partition_1 == m else nums1[partition_1]\n        max_left_2 = float('-inf') if partition_2 == 0 else nums2[partition_2 - 1]\n        min_right_2 = float('inf') if partition_2 == n else nums2[partition_2]\n\n        # Check if the current partitions satisfy the condition\n        if max_left_1 <= min_right_2 and max_left_2 <= min_right_1:\n            # We found the correct partitions\n            if (m + n) % 2 == 0:\n                # Total elements in both arrays are even, take the average of two middle elements\n                return (max(max_left_1, max_left_2) + min(min_right_1, min_right_2)) / 2\n            else:\n                # Total elements in both arrays are odd, median is the maximum of the left numbers\n                return max(max_left_1, max_left_2)\n        elif max_left_1 > min_right_2:\n            # Adjust the partition to the left in nums1\n            high = partition_1 - 1\n        else:\n            # Adjust the partition to the right in nums1\n            low = partition_1 + 1\n\n    # If we reach here, it means the input arrays are not sorted\n    raise ValueError(\"Input arrays are not sorted.\")\n\n\n# Driver code\nnums1 = [1, 3, 5]\nnums2 = [2, 4, 6]\n\nprint(findMedian(nums1, nums2))\n",
      "metadata": {
        "trusted": true
      },
      "execution_count": 6,
      "outputs": [
        {
          "name": "stdout",
          "text": "3.5\n",
          "output_type": "stream"
        }
      ]
    },
    {
      "cell_type": "code",
      "source": "",
      "metadata": {},
      "execution_count": null,
      "outputs": []
    }
  ]
}