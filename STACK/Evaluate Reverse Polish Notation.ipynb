{
  "metadata": {
    "language_info": {
      "codemirror_mode": {
        "name": "python",
        "version": 3
      },
      "file_extension": ".py",
      "mimetype": "text/x-python",
      "name": "python",
      "nbconvert_exporter": "python",
      "pygments_lexer": "ipython3",
      "version": "3.8"
    },
    "kernelspec": {
      "name": "python",
      "display_name": "Python (Pyodide)",
      "language": "python"
    }
  },
  "nbformat_minor": 4,
  "nbformat": 4,
  "cells": [
    {
      "cell_type": "markdown",
      "source": "You are given an array of strings tokens that represents an arithmetic expression in a Reverse Polish Notation.\nEvaluate the expression. Return an integer that represents the value of the expression.\nNote that:\n\nThe valid operators are '+', '-', '*', and '/'.\nEach operand may be an integer or another expression.\nThe division between two integers always truncates toward zero.\nThere will not be any division by zero.\nThe input represents a valid arithmetic expression in a reverse polish notation.\nThe answer and all the intermediate calculations can be represented in a 32-bit integer.\nExample 1:\n\nInput: tokens = [\"2\",\"1\",\"+\",\"3\",\"*\"]\nOutput: 9\nExplanation: ((2 + 1) * 3) = 9\nExample 2:\n\nInput: tokens = [\"4\",\"13\",\"5\",\"/\",\"+\"]\nOutput: 6\nExplanation: (4 + (13 / 5)) = 6",
      "metadata": {}
    },
    {
      "cell_type": "markdown",
      "source": "TC=O(N)\nSC=O(N)\n\n1 We use a stack to solve this problem.\n2 We keep pushing elements onto the stack if they are not operators, which means they are numbers.\n3 When we encounter an operator, we pop two elements from the stack and perform the required operation.\n4 The evaluation of our operation is pushed back into the stack.\n5 Finally, we return the first element in the stack which holds the answer to the given expression.",
      "metadata": {}
    },
    {
      "cell_type": "code",
      "source": "#method def\nimport math\ndef evalRPN(tokens):\n    #create an empty stack\n    stack = []\n#loop through each token\n    for t in tokens:\n        #if t is not operator -- push into stack\n        if t not in {\"+\", \"-\", \"*\", \"/\"}:\n            stack.append(int(t))\n     #if t is opertator --pop two elements from the stack\n    #perform thr operation\n    #push into the stack\n        else:\n            b, a = stack.pop(), stack.pop()\n            if t == \"+\": stack.append(a + b)\n            elif t == \"-\": stack.append(a - b)\n            elif t == \"*\": stack.append(a * b)\n            else: stack.append(int(a / b))\n    return stack[0]   \n    \n#driver code\ntokens = [\"4\",\"13\",\"5\",\"/\",\"+\"]\nprint(evalRPN(tokens))",
      "metadata": {
        "trusted": true
      },
      "execution_count": 10,
      "outputs": [
        {
          "name": "stdout",
          "text": "6\n",
          "output_type": "stream"
        }
      ]
    },
    {
      "cell_type": "code",
      "source": "def evalRPN( tokens):\n    stack = []\n    for c in tokens:\n        if c == \"+\":\n            stack.append(stack.pop() + stack.pop())\n        elif c == \"-\":\n            a, b = stack.pop(), stack.pop()\n            stack.append(b - a)\n        elif c == \"*\":\n            stack.append(stack.pop() * stack.pop())\n        elif c == \"/\":\n            a, b = stack.pop(), stack.pop()\n            stack.append(int(b / a))\n        else:\n            stack.append(int(c))\n    return stack[0]\n\ntokens = [\"4\",\"13\",\"5\",\"/\",\"+\"]\nprint(evalRPN(tokens))\n",
      "metadata": {
        "trusted": true
      },
      "execution_count": 9,
      "outputs": [
        {
          "name": "stdout",
          "text": "6\n",
          "output_type": "stream"
        }
      ]
    },
    {
      "cell_type": "code",
      "source": "",
      "metadata": {},
      "execution_count": null,
      "outputs": []
    }
  ]
}