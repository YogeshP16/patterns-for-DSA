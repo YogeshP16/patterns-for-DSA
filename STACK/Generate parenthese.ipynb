{
  "metadata": {
    "language_info": {
      "codemirror_mode": {
        "name": "python",
        "version": 3
      },
      "file_extension": ".py",
      "mimetype": "text/x-python",
      "name": "python",
      "nbconvert_exporter": "python",
      "pygments_lexer": "ipython3",
      "version": "3.8"
    },
    "kernelspec": {
      "name": "python",
      "display_name": "Python (Pyodide)",
      "language": "python"
    }
  },
  "nbformat_minor": 4,
  "nbformat": 4,
  "cells": [
    {
      "cell_type": "markdown",
      "source": "Given n pairs of parentheses, write a function to generate all combinations of well-formed parentheses.\nExample 1:\n\nInput: n = 3\nOutput: [\"((()))\",\"(()())\",\"(())()\",\"()(())\",\"()()()\"]\nExample 2:\n\nInput: n = 1\nOutput: [\"()\"]",
      "metadata": {}
    },
    {
      "cell_type": "markdown",
      "source": "tc = O(4^n / sqrt(n))\nsc=o(n)",
      "metadata": {}
    },
    {
      "cell_type": "code",
      "source": "#method def\ndef generateparen(n):\n    stack =[]\n    res=[]\n    def backtrack(openN,closeN):\n        #it is valid if open ==close ==n\n        if openN == closeN ==n:\n            res.append(\"\".join(stack))\n            #if open < n -- add open parentheses\n        if openN < n:\n            stack.append(\"(\")\n            #callind backtrack func\n            backtrack(openN + 1,closeN)\n            stack.pop()\n            #if close < n -- add close parenthese\n        if closeN < openN:\n            stack.append(\")\")\n            backtrack(openN,closeN+1)\n            stack.pop()\n            \n    backtrack(0,0)\n    return res\n            \n\n#driver code \nn = 3\nprint(generateparen(n))",
      "metadata": {
        "trusted": true
      },
      "execution_count": 1,
      "outputs": [
        {
          "name": "stdout",
          "text": "['((()))', '(()())', '(())()', '()(())', '()()()']\n",
          "output_type": "stream"
        }
      ]
    },
    {
      "cell_type": "code",
      "source": "",
      "metadata": {},
      "execution_count": null,
      "outputs": []
    }
  ]
}