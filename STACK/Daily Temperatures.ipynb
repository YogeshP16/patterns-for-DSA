{
  "metadata": {
    "language_info": {
      "codemirror_mode": {
        "name": "python",
        "version": 3
      },
      "file_extension": ".py",
      "mimetype": "text/x-python",
      "name": "python",
      "nbconvert_exporter": "python",
      "pygments_lexer": "ipython3",
      "version": "3.8"
    },
    "kernelspec": {
      "name": "python",
      "display_name": "Python (Pyodide)",
      "language": "python"
    }
  },
  "nbformat_minor": 4,
  "nbformat": 4,
  "cells": [
    {
      "cell_type": "markdown",
      "source": "Given an array of integers temperatures represents the daily temperatures, return an array answer such that answer[i] is the number of days you have to wait after the ith day to get a warmer temperature. If there is no future day for which this is possible, keep answer[i] == 0 instead.\nExample 1:\n\nInput: temperatures = [73,74,75,71,69,72,76,73]\nOutput: [1,1,4,2,1,1,0,0]\nExample 2:\n\nInput: temperatures = [30,40,50,60]\nOutput: [1,1,1,0]",
      "metadata": {}
    },
    {
      "cell_type": "code",
      "source": "",
      "metadata": {},
      "execution_count": null,
      "outputs": []
    },
    {
      "cell_type": "code",
      "source": "#mwthod def\ndef dailytemp(temperatures):\n    #int array of size n with zeros \n    res = [0]*len(temperatures)\n    #int an empty stack \n    stack =[] # pair [temp, index]\n    #for i = 0 to n-1\n    #enumerates - it shows index , values\n    for i,t in enumerate(temperatures):\n        #while stack not empty and temperature > top of stack\n        while stack and t > stack[-1][0]:\n            #pop top element of the stack\n            #and store it  temperature, index as stackT , stackInd\n            stackT, stackInd = stack.pop()\n            #calc  the difference between the current index i and stackInd\n            #and  store it as res[stackInd]\n            res[stackInd] = (i-stackInd)\n           # push the pair (temperatures[i], i) onto the stack \n        stack.append((t,i))\n    return res\n    \n            \n#driver code\ntemperatures = [73,74,75,71,69,72,76,73]\nprint(dailytemp(temperatures))",
      "metadata": {
        "trusted": true
      },
      "execution_count": 4,
      "outputs": [
        {
          "name": "stdout",
          "text": "[1, 1, 4, 2, 1, 1, 0, 0]\n",
          "output_type": "stream"
        }
      ]
    },
    {
      "cell_type": "code",
      "source": "",
      "metadata": {},
      "execution_count": null,
      "outputs": []
    }
  ]
}