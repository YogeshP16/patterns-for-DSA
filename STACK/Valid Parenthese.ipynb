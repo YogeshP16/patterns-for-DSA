{
  "metadata": {
    "language_info": {
      "codemirror_mode": {
        "name": "python",
        "version": 3
      },
      "file_extension": ".py",
      "mimetype": "text/x-python",
      "name": "python",
      "nbconvert_exporter": "python",
      "pygments_lexer": "ipython3",
      "version": "3.8"
    },
    "kernelspec": {
      "name": "python",
      "display_name": "Python (Pyodide)",
      "language": "python"
    }
  },
  "nbformat_minor": 4,
  "nbformat": 4,
  "cells": [
    {
      "cell_type": "markdown",
      "source": "Given a string s containing just the characters '(', ')', '{', '}', '[' and ']', determine if the input string is valid.\nAn input string is valid if:\nOpen brackets must be closed by the same type of brackets.\nOpen brackets must be closed in the correct order.\nEvery close bracket has a corresponding open bracket of the same type.\n\nExample 1:\nInput: s = \"()\"\nOutput: true\n\nExample 2:\nInput: s = \"()[]{}\"\nOutput: true",
      "metadata": {}
    },
    {
      "cell_type": "markdown",
      "source": "we using stack data structure\ntc=O(n)\nsc=O(n)",
      "metadata": {}
    },
    {
      "cell_type": "code",
      "source": "#method def\ndef isValid(s):\n    #create an empty stack to keep track of open bracket \n    stack=[]\n    #create a dict --that maps closing bracket to coresponding open brackets\n    closetoopen= { \")\":\"(\", \"}\":\"{\",\"]\":\"[\"}\n    l#oop through each char c in s\n    for c in s:\n        #if c is key in closetoopen \n        if c in closetoopen:\n            #if stack is not empty \n            #top element is == to corresponding open bracket\n            #then pop it\n            if stack and stack[-1] == closetoopen[c]:\n                stack.pop()\n                #otherwise it is not valid\n            else:\n                return False\n            #if c is not a key in closetoopen\n        else:\n            stack.append(c)\n    return True if not stack else False       \n\n#driver code\ns = \"()[]{}\"\nprint(isValid(s))",
      "metadata": {
        "trusted": true
      },
      "execution_count": 2,
      "outputs": [
        {
          "name": "stdout",
          "text": "True\n",
          "output_type": "stream"
        }
      ]
    },
    {
      "cell_type": "code",
      "source": "",
      "metadata": {},
      "execution_count": null,
      "outputs": []
    }
  ]
}