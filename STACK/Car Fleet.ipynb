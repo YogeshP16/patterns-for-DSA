{
  "metadata": {
    "language_info": {
      "codemirror_mode": {
        "name": "python",
        "version": 3
      },
      "file_extension": ".py",
      "mimetype": "text/x-python",
      "name": "python",
      "nbconvert_exporter": "python",
      "pygments_lexer": "ipython3",
      "version": "3.8"
    },
    "kernelspec": {
      "name": "python",
      "display_name": "Python (Pyodide)",
      "language": "python"
    }
  },
  "nbformat_minor": 4,
  "nbformat": 4,
  "cells": [
    {
      "cell_type": "markdown",
      "source": "Input: target = 12, position = [10,8,0,5,3], speed = [2,4,1,1,3]\nOutput: 3\nExplanation:\nThe cars starting at 10 (speed 2) and 8 (speed 4) become a fleet, meeting each other at 12.\nThe car starting at 0 does not catch up to any other car, so it is a fleet by itself.\nThe cars starting at 5 (speed 1) and 3 (speed 3) become a fleet, meeting each other at 6. The fleet moves at speed 1 until it reaches target.\nNote that no other cars meet these fleets before the destination, so the answer is 3.",
      "metadata": {}
    },
    {
      "cell_type": "markdown",
      "source": "The algorithm implemented in the code is as follows:\n\nCreate an array of pairs where the first element of each pair is the position of the car and the second element is its speed.\nSort the array of pairs in descending order of positions.\nFor each car, calculate the time taken to reach the target point and add it to a stack.\nIf the time taken by the car at the top of the stack is less than or equal to the time taken by the car below it in the stack, pop the car from the stack.\nReturn the size of the stack, which represents the number of car fleets formed.\n\n\ntc=O(nlog n)\n function sorts the array of pairs, which takes O(NlogN) time.\n \nsc =O(N)",
      "metadata": {}
    },
    {
      "cell_type": "code",
      "source": "#method def \ndef carfleet(target,position,speed):\n    #create an array of pair\n    #iterate both speed, position simuntaneously with the help of zip\n    pair=[[p,s] for p,s in zip(position,speed)]\n    stack=[]\n    #iterate through array of pair (reverse sorted order)\n    for p,s in sorted(pair)[::-1]: #reverse sorted order\n        #For each car, calculate the time taken to\n        #reach the target point and add it to a stack.\n\n        stack.append((target -p) /s)\n        #If the time taken by the car at the top of the stack\n        #is less than or equal to the time taken by the car below it in the stack,\n        #pop the car from the stack.\n\n        if len(stack) >= 2 and stack[-1] <= stack[-2]:\n            stack.pop()\n    return len(stack)        \n    \n    \n#driver code\ntarget = 12\nposition = [10,8,0,5,3]\nspeed = [2,4,1,1,3]\nprint(carfleet(target,position,speed))\n",
      "metadata": {
        "trusted": true
      },
      "execution_count": 2,
      "outputs": [
        {
          "name": "stdout",
          "text": "3\n",
          "output_type": "stream"
        }
      ]
    },
    {
      "cell_type": "code",
      "source": "",
      "metadata": {},
      "execution_count": null,
      "outputs": []
    }
  ]
}