{
  "metadata": {
    "language_info": {
      "codemirror_mode": {
        "name": "python",
        "version": 3
      },
      "file_extension": ".py",
      "mimetype": "text/x-python",
      "name": "python",
      "nbconvert_exporter": "python",
      "pygments_lexer": "ipython3",
      "version": "3.8"
    },
    "kernelspec": {
      "name": "python",
      "display_name": "Python (Pyodide)",
      "language": "python"
    }
  },
  "nbformat_minor": 4,
  "nbformat": 4,
  "cells": [
    {
      "cell_type": "markdown",
      "source": "Design a stack that supports push, pop, top, and retrieving the minimum element in constant time.\nImplement the MinStack class:\n    \nMinStack() initializes the stack object.\nvoid push(int val) pushes the element val onto the stack.\nvoid pop() removes the element on the top of the stack.\nint top() gets the top element of the stack.\nint getMin() retrieves the minimum element in the stack.\nYou must implement a solution with O(1) time complexity for each function. \nExample 1:\n\nInput\n[\"MinStack\",\"push\",\"push\",\"push\",\"getMin\",\"pop\",\"top\",\"getMin\"]\n[[],[-2],[0],[-3],[],[],[],[]]\n\nOutput\n[null,null,null,null,-3,null,0,-2]\n\nExplanation\nMinStack minStack = new MinStack();\nminStack.push(-2);\nminStack.push(0);\nminStack.push(-3);\nminStack.getMin(); // return -3\nminStack.pop();\nminStack.top();    // return 0\nminStack.getMin(); // return -2",
      "metadata": {}
    },
    {
      "cell_type": "markdown",
      "source": "tc=O(1)\nsc=O(n)\n\nmin_val == minStack\n    \nWhile implementing basic functionalities of the stack, we also keep a min_val stack that stores the minimum value in the stack at a given point in time.\n\nEverytime we push a new element onto the stack, we update our min_val.\n\nAnd everytime we pop an element from the stack, we do the same for our min_val stack as well.",
      "metadata": {}
    },
    {
      "cell_type": "code",
      "source": "class MinStack:\n    def __init__(self):\n        self.stack = []\n        self.minStack = []\n        \n    def push(self, x: int) -> None:\n        self.stack.append(x)\n        x = min(x, self.minStack[-1] if self.minStack else x)\n        self.minStack.append(x)\n        \n    def pop(self) -> None:\n        self.stack.pop()\n        self.minStack.pop()\n        \n    def top(self) -> int:\n        return self.stack[-1]\n        \n    def getMin(self) -> int:\n        return self.minStack[-1]\n\n\n# driver code\nminStack = MinStack()\nminStack.push(-2)\nminStack.push(0)\nminStack.push(-3)\nprint(minStack.getMin())  # Output: -3\nminStack.pop()\nprint(minStack.top())  # Output: 0\nprint(minStack.getMin())  # Output: -2\n",
      "metadata": {
        "trusted": true
      },
      "execution_count": 8,
      "outputs": [
        {
          "name": "stdout",
          "text": "-3\n0\n-2\n",
          "output_type": "stream"
        }
      ]
    },
    {
      "cell_type": "code",
      "source": "class MinStack:\n\n    def __init__(self):\n        self.stack =[]\n        self.minstack =[]\n#implementing push operation\n    def push(self, val: int) -> None:\n        self.stack.append(val)\n        #not self.minstack - check minimum stack empty or not if empty it return true and push  value to minstack\n        #comparing both stack using OR operator\n        #if val <= minstack it push value to min stack\n        if not self.minstack or val <= self.minstack[-1]:\n            self.minstack.append(val)\n        \n#if min stack element vs stack element equal it will pop\n    def pop(self) -> None:\n        if self.stack:\n            if self.stack[-1] == self.minstack[-1]:\n                self.minstack.pop()\n            self.stack.pop()\n\n#if val present in stack it will show the top element\n    def top(self) -> int:\n        if self.stack:\n            return self.stack[-1]\n        \n\n    def getMin(self) -> int:\n        if self.minstack:\n            return self.minstack[-1]\n        \n\n\n# Your MinStack object will be instantiated and called as such:\n# obj = MinStack()\n# obj.push(val)\n# obj.pop()\n# param_3 = obj.top()\n# param_4 = obj.getMin()",
      "metadata": {},
      "execution_count": null,
      "outputs": []
    }
  ]
}