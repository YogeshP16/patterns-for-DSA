{
  "metadata": {
    "language_info": {
      "codemirror_mode": {
        "name": "python",
        "version": 3
      },
      "file_extension": ".py",
      "mimetype": "text/x-python",
      "name": "python",
      "nbconvert_exporter": "python",
      "pygments_lexer": "ipython3",
      "version": "3.8"
    },
    "kernelspec": {
      "name": "python",
      "display_name": "Python (Pyodide)",
      "language": "python"
    }
  },
  "nbformat_minor": 4,
  "nbformat": 4,
  "cells": [
    {
      "cell_type": "markdown",
      "source": "Given an array of integers heights representing the histogram's bar height where the width of each bar is 1, return the area of the largest rectangle in the histogram.\nExample 1:\n\nInput: heights = [2,1,5,6,2,3]\nOutput: 10\nExplanation: The above is a histogram where width of each bar is 1.\nThe largest rectangle is shown in the red area, which has an area = 10 units.",
      "metadata": {}
    },
    {
      "cell_type": "code",
      "source": "",
      "metadata": {},
      "execution_count": null,
      "outputs": []
    },
    {
      "cell_type": "code",
      "source": "#method def\ndef largestRectArea(heights):\n    maxArea=0\n    stack =[] #pair:(index,height)\n    \n    for i,h in enumerate(heights):\n        start =i\n        while stack and stack[-1][1] >h:\n            index,height = stack.pop()\n            maxArea =max(maxArea,height * (i-index))\n        stack.append((start,h))\n        \n    for i,h in stack:\n        maxArea = max(maxArea,h * (len(heights)-i))\n    return maxArea    \n\n#driver code\nheights = [2,1,2]\nprint(largestRectArea(heights))",
      "metadata": {
        "trusted": true
      },
      "execution_count": 4,
      "outputs": [
        {
          "name": "stdout",
          "text": "2\n",
          "output_type": "stream"
        }
      ]
    },
    {
      "cell_type": "code",
      "source": "def largestRectArea(heights):\n    #int max area to 0\n    maxArea = 0\n    stack = []  # pair: (index, height)\n    \n    \n    for i, h in enumerate(heights):\n        start = i\n        #While the stack is not empty and \n        #height of the current bar is less than the height of the bar\n        #at the top of the stack\n        while stack and stack[-1][1] > h:\n            #Pop the top pair off the stack\n            index, height = stack.pop()\n            #calc area of rectangle that formed bby using poped bar\n            #update the max area\n            maxArea = max(maxArea, height * (i - index))\n            #push curr index, height to the stack\n            start = index\n        stack.append((start, h))\n#Once all bars have been processed, if there are any items remaining on the stack:\n#For each remaining pair on the stack:\n    for i, h in stack:\n        #Calculate the area of the rectangle that can be formed using the popped bar\n        #as the height \n        #and the distance between its index and the end of the histogram as the width\n        maxArea = max(maxArea, h * (len(heights) - i))\n    return maxArea\n\n\n# driver code\nheights = [2, 1, 5, 6, 2, 3]\nprint(largestRectArea(heights))\n",
      "metadata": {
        "trusted": true
      },
      "execution_count": 5,
      "outputs": [
        {
          "name": "stdout",
          "text": "10\n",
          "output_type": "stream"
        }
      ]
    },
    {
      "cell_type": "code",
      "source": "",
      "metadata": {},
      "execution_count": null,
      "outputs": []
    }
  ]
}