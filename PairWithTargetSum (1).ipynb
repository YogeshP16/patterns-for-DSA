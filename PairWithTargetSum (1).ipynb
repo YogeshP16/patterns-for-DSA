{
  "metadata": {
    "language_info": {
      "codemirror_mode": {
        "name": "python",
        "version": 3
      },
      "file_extension": ".py",
      "mimetype": "text/x-python",
      "name": "python",
      "nbconvert_exporter": "python",
      "pygments_lexer": "ipython3",
      "version": "3.8"
    },
    "kernelspec": {
      "name": "python",
      "display_name": "Python (Pyodide)",
      "language": "python"
    }
  },
  "nbformat_minor": 4,
  "nbformat": 4,
  "cells": [
    {
      "cell_type": "code",
      "source": "\nTwo Sum\ninput= [3,2,4]   target=6\nop= [1,2]",
      "metadata": {},
      "execution_count": null,
      "outputs": []
    },
    {
      "cell_type": "code",
      "source": "# HASH MAP\ntc= O(n)\nsc=O(n)\n\n#method def\ndef twosum(nums,target):\n    #creating a dict to store elements and index\n    dict={}\n    #traverse array\n    for i in range (len(nums)):\n        \n        diff=target-nums[i]\n        if diff in dict:\n            #if diff exist in dict it will return index values\n            return [dict[diff],i]\n        #if diff not exist in dict, it will add current value and indext to the dict\n        dict[nums[i]]=i\n     #if no value added it will return empty list   \n    return[]    \n#driver code\nnums=[3,2,4]\ntarget=6\nprint(twosum(nums,target))",
      "metadata": {
        "trusted": true
      },
      "execution_count": 3,
      "outputs": [
        {
          "name": "stdout",
          "text": "[1, 2]\n",
          "output_type": "stream"
        }
      ]
    },
    {
      "cell_type": "code",
      "source": "BRUTE FORCE APPROACH",
      "metadata": {},
      "execution_count": null,
      "outputs": []
    },
    {
      "cell_type": "code",
      "source": "#tc=O(n2)\nsc=O(1)\n\n#method def\ndef twosum(nums,target):\n    for i in range (len(nums)):\n        for j in range(i+1,len(nums)):\n            if nums[i] + nums[j]==target:\n                return[i,j]\n        \n    return[]    \n#driver code\nnums=[3,2,4]\ntarget=6\nprint(twosum(nums,target))",
      "metadata": {
        "trusted": true
      },
      "execution_count": 4,
      "outputs": [
        {
          "name": "stdout",
          "text": "[1, 2]\n",
          "output_type": "stream"
        }
      ]
    },
    {
      "cell_type": "code",
      "source": "",
      "metadata": {},
      "execution_count": null,
      "outputs": []
    }
  ]
}