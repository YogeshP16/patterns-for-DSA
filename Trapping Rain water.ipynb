{
  "metadata": {
    "language_info": {
      "codemirror_mode": {
        "name": "python",
        "version": 3
      },
      "file_extension": ".py",
      "mimetype": "text/x-python",
      "name": "python",
      "nbconvert_exporter": "python",
      "pygments_lexer": "ipython3",
      "version": "3.8"
    },
    "kernelspec": {
      "name": "python",
      "display_name": "Python (Pyodide)",
      "language": "python"
    }
  },
  "nbformat_minor": 4,
  "nbformat": 4,
  "cells": [
    {
      "cell_type": "markdown",
      "source": "Given n non-negative integers representing an elevation map where the width of each bar is 1, compute how much water it can trap after raining.\n\nExample 1:\nInput: height = [0,1,0,2,1,0,1,3,2,1,2,1]\nOutput: 6\nExplanation: The above elevation map (black section) is represented by array [0,1,0,2,1,0,1,3,2,1,2,1]. In this case, 6 units of rain water (blue section) are being trapped.\n\nExample 2:\nInput: height = [4,2,0,3,2,5]\nOutput: 9",
      "metadata": {}
    },
    {
      "cell_type": "code",
      "source": "Two pointer approch\ntc = o(n)\nsc=o(1)",
      "metadata": {},
      "execution_count": null,
      "outputs": []
    },
    {
      "cell_type": "code",
      "source": "tc = o(n)\nsc=o(1)\n\n#method def\ndef trap(height):\n    #int two pointer left , right\n    left, right = 0, len(height)-1\n    #int variable\n    left_max=right_max=ans=0\n    #while left <= right\n    while left <= right:\n        if height[left]<= height[right]:\n            #if height at left pointer > left max\n            #update left max  to height  at left\n            if height[left] > left_max:\n                left_max = height[left]\n            else:\n                #otherwise calculate the amount of water\n                #add the result to ans and inc left pointer\n                ans +=left_max-height[left]\n            left+=1\n        else:\n            if height[right] > right_max:\n                right_max = height[right]\n            else:\n                ans+=right_max-height[right]\n            right-=1\n    return ans        \n    \n#driver code\nheight = [0,1,0,2,1,0,1,3,2,1,2,1]\nprint(trap(height))",
      "metadata": {
        "trusted": true
      },
      "execution_count": 5,
      "outputs": [
        {
          "name": "stdout",
          "text": "6\n",
          "output_type": "stream"
        }
      ]
    },
    {
      "cell_type": "code",
      "source": "",
      "metadata": {},
      "execution_count": null,
      "outputs": []
    }
  ]
}