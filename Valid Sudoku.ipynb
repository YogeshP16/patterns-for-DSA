{
  "metadata": {
    "language_info": {
      "codemirror_mode": {
        "name": "python",
        "version": 3
      },
      "file_extension": ".py",
      "mimetype": "text/x-python",
      "name": "python",
      "nbconvert_exporter": "python",
      "pygments_lexer": "ipython3",
      "version": "3.8"
    },
    "kernelspec": {
      "name": "python",
      "display_name": "Python (Pyodide)",
      "language": "python"
    }
  },
  "nbformat_minor": 4,
  "nbformat": 4,
  "cells": [
    {
      "cell_type": "markdown",
      "source": "Determine if a 9 x 9 Sudoku board is valid. Only the filled cells need to be validated according to the following rules:\n\nEach row must contain the digits 1-9 without repetition.\nEach column must contain the digits 1-9 without repetition.\nEach of the nine 3 x 3 sub-boxes of the grid must contain the digits 1-9 without repetition.",
      "metadata": {}
    },
    {
      "cell_type": "code",
      "source": "def validsudo(board):\n    #we create 3 empty sets and used to keep track\n    #that no is already appears or not\n    row,col,block=set(),set(),set()\n    # traverse each cell using nested for loop\n    for i in range(9):\n            for j in range(9):\n                #it check the cell contains number or not\n\n                if(board[i][j] !=\".\"):\n                    #if it contains the func create 3 keys\n                    # r key tuple contains row index and no in the cell\n                    # c_key contains col index and no in the cell\n                    # b_key contains index of 3*3 grid (i,e: i//3,j//3) and number in the cell\n                    r_key = (i,board[i][j])\n                    c_key=(j,board[i][j])\n                    b_key=(i//3,j//3,board[i][j])\n                    #The function then checks if any of these \n                    #keys already exist in the corresponding set\n                    if((r_key in row) or (c_key in col) or (b_key in block)):\n                        #if any of these key exist it will return false\n                        return False\n                    #if key is unique the function adds these keys to the corresponding sets\n                    #and continues to the next cell.\n                    row.add(r_key)\n                    col.add(c_key)\n                    block.add(b_key)\n                    #After iterating over all cells, \n                    #the function returns True indicating that the board is a valid Sudoku \n        return True \n    \n         \n#driver code\nboard = [[\"5\",\"3\",\".\",\".\",\"7\",\".\",\".\",\".\",\".\"]\n         ,[\"6\",\".\",\".\",\"1\",\"9\",\"5\",\".\",\".\",\".\"]\n         ,[\".\",\"9\",\"8\",\".\",\".\",\".\",\".\",\"6\",\".\"]\n         ,[\"8\",\".\",\".\",\".\",\"6\",\".\",\".\",\".\",\"3\"]\n         ,[\"4\",\".\",\".\",\"8\",\".\",\"3\",\".\",\".\",\"1\"]\n         ,[\"7\",\".\",\".\",\".\",\"2\",\".\",\".\",\".\",\"6\"]\n         ,[\".\",\"6\",\".\",\".\",\".\",\".\",\"2\",\"8\",\".\"]\n         ,[\".\",\".\",\".\",\"4\",\"1\",\"9\",\".\",\".\",\"5\"]\n         ,[\".\",\".\",\".\",\".\",\"8\",\".\",\".\",\"7\",\"9\"]]\n\nprint(validsudo(board))\n          ",
      "metadata": {
        "trusted": true
      },
      "execution_count": null,
      "outputs": []
    },
    {
      "cell_type": "code",
      "source": "",
      "metadata": {},
      "execution_count": null,
      "outputs": []
    }
  ]
}