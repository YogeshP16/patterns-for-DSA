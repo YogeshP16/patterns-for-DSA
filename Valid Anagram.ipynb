{
  "metadata": {
    "language_info": {
      "codemirror_mode": {
        "name": "python",
        "version": 3
      },
      "file_extension": ".py",
      "mimetype": "text/x-python",
      "name": "python",
      "nbconvert_exporter": "python",
      "pygments_lexer": "ipython3",
      "version": "3.8"
    },
    "kernelspec": {
      "name": "python",
      "display_name": "Python (Pyodide)",
      "language": "python"
    }
  },
  "nbformat_minor": 4,
  "nbformat": 4,
  "cells": [
    {
      "cell_type": "markdown",
      "source": "Given two strings s and t, return true if t is an anagram of s, and false otherwise.\n\nAn Anagram is a word or phrase formed by rearranging the letters of a different word or phrase, typically using all the original letters exactly once.\n\n Example 1:\nInput: s = \"anagram\", t = \"nagaram\"\nOutput: true\nExample 2:\nInput: s = \"rat\", t = \"car\"\nOutput: false",
      "metadata": {}
    },
    {
      "cell_type": "code",
      "source": "#datastructures\ntc= O(n)\nsc=o(1)\n\n#method def\ndef valid(s,t):\n    \n    if (sorted(s)==sorted(t)):\n        print (\"true\")\n    else:\n        print (\"false\") \n      \n#driver code\n\ns=\"anagram\" \nt=\"nagaram\"\nvalid(s,t)",
      "metadata": {
        "trusted": true
      },
      "execution_count": 12,
      "outputs": [
        {
          "name": "stdout",
          "text": "true\n",
          "output_type": "stream"
        }
      ]
    },
    {
      "cell_type": "markdown",
      "source": "HASH MAP",
      "metadata": {}
    },
    {
      "cell_type": "code",
      "source": "tc= O(n)\nsc=O(n)\n\n#method def\ndef valid(s,t):\n    #creating hashmap to store key value\n    a={}\n    b={}\n    \n    for i in s:\n        \n        if i in a:\n            a[i]+=1\n        else:\n            a[i]=1\n        for j in s:\n            if j in b:\n                b[i]+=1\n            else:\n                b[i]=1\n            if a==b:\n                return True\n            else:\n                return False\n\n#driver code\ns=\"anagram\"\nt=\"nagaram\"\nvalid(s,t)",
      "metadata": {
        "trusted": true
      },
      "execution_count": 13,
      "outputs": [
        {
          "execution_count": 13,
          "output_type": "execute_result",
          "data": {
            "text/plain": "True"
          },
          "metadata": {}
        }
      ]
    },
    {
      "cell_type": "code",
      "source": "",
      "metadata": {},
      "execution_count": null,
      "outputs": []
    }
  ]
}