{
  "metadata": {
    "language_info": {
      "codemirror_mode": {
        "name": "python",
        "version": 3
      },
      "file_extension": ".py",
      "mimetype": "text/x-python",
      "name": "python",
      "nbconvert_exporter": "python",
      "pygments_lexer": "ipython3",
      "version": "3.8"
    },
    "kernelspec": {
      "name": "python",
      "display_name": "Python (Pyodide)",
      "language": "python"
    }
  },
  "nbformat_minor": 4,
  "nbformat": 4,
  "cells": [
    {
      "cell_type": "markdown",
      "source": "Given two strings s1 and s2, return true if s2 contains a permutation of s1, or false otherwise.\nIn other words, return true if one of s1's permutations is the substring of s2.\nExample 1:\n\nInput: s1 = \"ab\", s2 = \"eidbaooo\"\nOutput: true\nExplanation: s2 contains one permutation of s1 (\"ba\").\nExample 2:\n\nInput: s1 = \"ab\", s2 = \"eidboaoo\"\nOutput: false",
      "metadata": {}
    },
    {
      "cell_type": "markdown",
      "source": "approch 1\nwe can create two hash map and count the two string\nwe can compare the two hash map \n\ntc= O(26*n)\nsc= o(n)",
      "metadata": {}
    },
    {
      "cell_type": "code",
      "source": "#method def\nfrom collections import Counter\ndef checkpermutation(s1,s2):\n    #create a frequenncy map1\n    map1=Counter(s1)\n    #traverse array from o to s2-1\n    for i in range (len(s2)):\n        #slice operation -- we extract len of s1 from string s2\n        sub=s2[i:i+len(s1)]\n        #we create frequency map2\n        map2=Counter(sub)\n        #check frequeny of map1 == map2\n        if map1==map2:\n            return True\n    return False\n#driver code\ns1 = \"ab\"\ns2 = \"eidbaooo\"\nprint(checkpermutation(s1,s2))",
      "metadata": {
        "trusted": true
      },
      "execution_count": 4,
      "outputs": [
        {
          "name": "stdout",
          "text": "True\n",
          "output_type": "stream"
        }
      ]
    },
    {
      "cell_type": "markdown",
      "source": "",
      "metadata": {}
    },
    {
      "cell_type": "code",
      "source": "",
      "metadata": {},
      "execution_count": null,
      "outputs": []
    }
  ]
}