{
  "metadata": {
    "language_info": {
      "codemirror_mode": {
        "name": "python",
        "version": 3
      },
      "file_extension": ".py",
      "mimetype": "text/x-python",
      "name": "python",
      "nbconvert_exporter": "python",
      "pygments_lexer": "ipython3",
      "version": "3.8"
    },
    "kernelspec": {
      "name": "python",
      "display_name": "Python (Pyodide)",
      "language": "python"
    }
  },
  "nbformat_minor": 4,
  "nbformat": 4,
  "cells": [
    {
      "cell_type": "markdown",
      "source": "Given an array of integers nums which is sorted in ascending order, and an integer target, write a function to search target in nums. If target exists, then return its index. Otherwise, return -1.\nYou must write an algorithm with O(log n) runtime complexity.\nExample 1:\n\nInput: nums = [-1,0,3,5,9,12], target = 9\nOutput: 4\nExplanation: 9 exists in nums and its index is 4\nExample 2:\n\nInput: nums = [-1,0,3,5,9,12], target = 2\nOutput: -1\nExplanation: 2 does not exist in nums so return -1",
      "metadata": {}
    },
    {
      "cell_type": "code",
      "source": "binary search \ntc=o(logn)\n",
      "metadata": {},
      "execution_count": null,
      "outputs": []
    },
    {
      "cell_type": "code",
      "source": "#method def \ndef binary(nums,target):\n    #int left,right\n    l=0\n    r=len(nums)-1 \n    \n    \n    while l<=r:\n        #calculate mid value\n        mid= l+((r-1)//2)\n        #if mid > target -- decrement the right side to mid-1\n        if nums[mid] > target:\n            r = mid-1\n            #if mid < target -- increment the left side to mid +1\n        elif nums[mid] < target:\n            l = mid+1\n            #if target == mid -- return mid\n        else:\n            return mid\n    return -1     \n\n#driver code\nnums = [-1,0,3,5,9,12]\ntarget = 2\nprint(binary(nums,target))\n",
      "metadata": {
        "trusted": true
      },
      "execution_count": 1,
      "outputs": [
        {
          "name": "stdout",
          "text": "-1\n",
          "output_type": "stream"
        }
      ]
    },
    {
      "cell_type": "code",
      "source": "",
      "metadata": {},
      "execution_count": null,
      "outputs": []
    }
  ]
}