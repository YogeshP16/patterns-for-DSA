{
  "metadata": {
    "language_info": {
      "codemirror_mode": {
        "name": "python",
        "version": 3
      },
      "file_extension": ".py",
      "mimetype": "text/x-python",
      "name": "python",
      "nbconvert_exporter": "python",
      "pygments_lexer": "ipython3",
      "version": "3.8"
    },
    "kernelspec": {
      "name": "python",
      "display_name": "Python (Pyodide)",
      "language": "python"
    }
  },
  "nbformat_minor": 4,
  "nbformat": 4,
  "cells": [
    {
      "cell_type": "markdown",
      "source": "You are given an m x n integer matrix matrix with the following two properties:\n* Each row is sorted in non-decreasing order.\n* The first integer of each row is greater than the last integer of the previous row.\n\nGiven an integer target, return true if target is in matrix or false otherwise.\n\nYou must write a solution in O(log(m * n)) time complexity.\nExample 1:\n\nInput: matrix = [[1,3,5,7],[10,11,16,20],[23,30,34,60]], target = 3\nOutput: true",
      "metadata": {}
    },
    {
      "cell_type": "code",
      "source": "Binary search\ntc=O(log(m*n))\nsc=O(1)",
      "metadata": {
        "trusted": true
      },
      "execution_count": null,
      "outputs": []
    },
    {
      "cell_type": "code",
      "source": "#method def \ndef twoDmatrix(arr,target):\n    #no of rows\n    m=len(arr)\n    if m==0:\n        return False\n    #no of columns\n    n=len(arr[0])\n    left =0\n    #formula for finding mid in 2d matrix\n    right=m*n-1 #mid=11\n    #binarysearch\n    while left <=right:\n        mid=left+((right-left)//2)\n        #to find mid element in row and column\n        midelement= arr[mid//n][mid%n]\n        \n        if midelement > target:\n            right =mid-1\n        elif midelement < target:\n            left = mid+1\n        else:\n            return True\n    return False    \n        \n    \n\n#driver code\narr= [[1,3,5,7],[10,11,16,20],[23,30,34,60]]\ntarget = 3\nprint(twoDmatrix(matrix,target))",
      "metadata": {
        "trusted": true
      },
      "execution_count": 6,
      "outputs": [
        {
          "name": "stdout",
          "text": "True\n",
          "output_type": "stream"
        }
      ]
    },
    {
      "cell_type": "code",
      "source": "",
      "metadata": {},
      "execution_count": null,
      "outputs": []
    }
  ]
}