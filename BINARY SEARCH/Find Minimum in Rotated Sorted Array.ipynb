{
  "metadata": {
    "language_info": {
      "codemirror_mode": {
        "name": "python",
        "version": 3
      },
      "file_extension": ".py",
      "mimetype": "text/x-python",
      "name": "python",
      "nbconvert_exporter": "python",
      "pygments_lexer": "ipython3",
      "version": "3.8"
    },
    "kernelspec": {
      "name": "python",
      "display_name": "Python (Pyodide)",
      "language": "python"
    }
  },
  "nbformat_minor": 4,
  "nbformat": 4,
  "cells": [
    {
      "cell_type": "markdown",
      "source": "Suppose an array of length n sorted in ascending order is rotated between 1 and n times. For example, the array nums = [0,1,2,4,5,6,7] might become:\n\n[4,5,6,7,0,1,2] if it was rotated 4 times.\n[0,1,2,4,5,6,7] if it was rotated 7 times.\nNotice that rotating an array [a[0], a[1], a[2], ..., a[n-1]] 1 time results in the array [a[n-1], a[0], a[1], a[2], ..., a[n-2]].\n\nGiven the sorted rotated array nums of unique elements, return the minimum element of this array.\n\nYou must write an algorithm that runs in O(log n) time.\nExample 1:\n\nInput: nums = [3,4,5,1,2]\nOutput: 1\nExplanation: The original array was [1,2,3,4,5] rotated 3 times.",
      "metadata": {}
    },
    {
      "cell_type": "code",
      "source": "tc=o(logn)\nsc=O(1)",
      "metadata": {},
      "execution_count": null,
      "outputs": []
    },
    {
      "cell_type": "code",
      "source": "#method def\ndef findMin(nums):\n    #int left to 0 and right to len arr -1\n    left =0\n    right=len(nums)-1\n    #binary search\n    while left < right:\n        #to find mid element index\n        mid=left+((right-left)//2)\n        #mid > right --- increment left to mid +1\n        if nums[mid] > nums[right]:\n            left=mid+1\n        #mid < right it means min element is in left half of array-- set right == mid\n        elif nums[mid] < nums[right]:\n            right = mid\n            #nums[mid] == nums[right]-- decrement the right pointer\n        else:\n            right -=1\n    return nums[left]        \n        \n        \n\n#driver code\nnums=[3,4,5,-1,0,1,2,]\nprint(findMin(nums))",
      "metadata": {
        "trusted": true
      },
      "execution_count": 2,
      "outputs": [
        {
          "name": "stdout",
          "text": "-1\n",
          "output_type": "stream"
        }
      ]
    },
    {
      "cell_type": "code",
      "source": "",
      "metadata": {},
      "execution_count": null,
      "outputs": []
    }
  ]
}