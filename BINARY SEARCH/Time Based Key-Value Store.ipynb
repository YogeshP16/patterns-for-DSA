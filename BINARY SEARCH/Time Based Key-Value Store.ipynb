{
  "metadata": {
    "language_info": {
      "codemirror_mode": {
        "name": "python",
        "version": 3
      },
      "file_extension": ".py",
      "mimetype": "text/x-python",
      "name": "python",
      "nbconvert_exporter": "python",
      "pygments_lexer": "ipython3",
      "version": "3.8"
    },
    "kernelspec": {
      "name": "python",
      "display_name": "Python (Pyodide)",
      "language": "python"
    }
  },
  "nbformat_minor": 4,
  "nbformat": 4,
  "cells": [
    {
      "cell_type": "markdown",
      "source": "Design a time-based key-value data structure that can store multiple values for the same key at different time stamps and retrieve the key's value at a certain timestamp.\n\nImplement the TimeMap class:\n\nTimeMap() Initializes the object of the data structure.\nvoid set(String key, String value, int timestamp) Stores the key key with the value value at the given time timestamp.\nString get(String key, int timestamp) Returns a value such that set was called previously, with timestamp_prev <= timestamp. If there are multiple such values, it returns the value associated with the largest timestamp_prev. If there are no values, it returns \"\".\n \n\nExample 1:\n\nInput\n[\"TimeMap\", \"set\", \"get\", \"get\", \"set\", \"get\", \"get\"]\n[[], [\"foo\", \"bar\", 1], [\"foo\", 1], [\"foo\", 3], [\"foo\", \"bar2\", 4], [\"foo\", 4], [\"foo\", 5]]\nOutput\n[null, null, \"bar\", \"bar\", null, \"bar2\", \"bar2\"]\n\nExplanation\nTimeMap timeMap = new TimeMap();\ntimeMap.set(\"foo\", \"bar\", 1);  // store the key \"foo\" and value \"bar\" along with timestamp = 1.\ntimeMap.get(\"foo\", 1);         // return \"bar\"\ntimeMap.get(\"foo\", 3);         // return \"bar\", since there is no value corresponding to foo at timestamp 3 and timestamp 2, then the only value is at timestamp 1 is \"bar\".\ntimeMap.set(\"foo\", \"bar2\", 4); // store the key \"foo\" and value \"bar2\" along with timestamp = 4.\ntimeMap.get(\"foo\", 4);         // return \"bar2\"\ntimeMap.get(\"foo\", 5);         // return \"bar2\"",
      "metadata": {}
    },
    {
      "cell_type": "code",
      "source": "tc=o(logn)\nsc=o(n)",
      "metadata": {},
      "execution_count": null,
      "outputs": []
    },
    {
      "cell_type": "code",
      "source": "class TimeMap:\n    #int class and create empty dict timestamp\n    def __init__(self):\n        self.timeMap = {}\n        \n    #set method takes 3 parameter(key,value,timestamp)        \n    def set(self, key: str, value: str, timestamp: int) -> None:\n        \n    #it check given exist in timpestamp or not    \n        if key not in self.timeMap:\n            \n            #if not it add empty list as value for the key\n            self.timeMap[key] = []\n            \n            #then append a new list\n        self.timeMap[key].append([value, timestamp])\n        \n        #get method takes  2 parameter\n    def get(self, key: str, timestamp: int) -> str:\n        \n        #int result res with empty string\n        res = '' #default return value\n        \n        # retrieves the list of values associated\n        #with the given key from the timeMap\n        values = self.timeMap.get(key, [])\n        #Binary search\n        l, r = 0, len(values) - 1\n        while l <= r:\n            m = (l + r) // 2\n        #the desired timestamp could be present in the right half of the list.\n        #So, it updates the l pointer #to m + 1 and updates the res variable\n        #with the corresponding value values[m][0].\n            if values[m][1] <= timestamp:\n                res = values[m][0]\n                l = m + 1\n        # timestamp at values[m][1] is greater than the given timestamp  \n        #desired timestamp could be present in the left half of the list.\n            else:\n                r = m - 1\n        return res",
      "metadata": {},
      "execution_count": null,
      "outputs": []
    }
  ]
}