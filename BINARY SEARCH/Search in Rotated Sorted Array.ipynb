{
  "metadata": {
    "language_info": {
      "codemirror_mode": {
        "name": "python",
        "version": 3
      },
      "file_extension": ".py",
      "mimetype": "text/x-python",
      "name": "python",
      "nbconvert_exporter": "python",
      "pygments_lexer": "ipython3",
      "version": "3.8"
    },
    "kernelspec": {
      "name": "python",
      "display_name": "Python (Pyodide)",
      "language": "python"
    }
  },
  "nbformat_minor": 4,
  "nbformat": 4,
  "cells": [
    {
      "cell_type": "markdown",
      "source": "There is an integer array nums sorted in ascending order (with distinct values).\nPrior to being passed to your function, nums is possibly rotated at an unknown pivot index k (1 <= k < nums.length) such that the resulting array is [nums[k], nums[k+1], ..., nums[n-1], nums[0], nums[1], ..., nums[k-1]] (0-indexed). For example, [0,1,2,4,5,6,7] might be rotated at pivot index 3 and become [4,5,6,7,0,1,2].\n\nGiven the array nums after the possible rotation and an integer target, return the index of target if it is in nums, or -1 if it is not in nums.\n\nYou must write an algorithm with O(log n) runtime complexity.\nExample 1:\n\nInput: nums = [4,5,6,7,0,1,2], target = 0\nOutput: 4\nExample 2:\n\nInput: nums = [4,5,6,7,0,1,2], target = 3\nOutput: -1",
      "metadata": {}
    },
    {
      "cell_type": "markdown",
      "source": "First init the left to zero and right to the length of nums minus one.\nNow while left is less than or equal to the right pointer \nWe calculate the middle of these left and right.\nThe first check inside this while loop is if we found the target, then of course return the index as requested. Now into the web of if-else. I’m not going to explain them again here, you can read the solution to understand these. If we exit this while loop without finding the target, we return -1.\n\n\ntc=o(log n)\nsc=o(1)",
      "metadata": {}
    },
    {
      "cell_type": "code",
      "source": "def searchRotatedSortArray(nums, target):\n    left = 0\n    right = len(nums) - 1\n   # mid = 0  # Declare mid variable\n\n    while left <= right:\n        mid = (left+ right) // 2\n\n        if nums[mid] == target:\n            return mid\n         #it check the left half of the array is sorted\n        if nums[left] <= nums[mid]:\n            #if it is sorted \n            #it check or condition --if either condition is true \n            #the target is not in left half\n            if target > nums[mid] or target < nums[left]:\n                left = mid + 1\n            else:\n                right = mid - 1\n         #if left half of the array is not sorted       \n        else:\n            #the right half of array is sorted\n            #it check or condition --if either condition is true \n            #the target is not in right half\n            \n            if target < nums[mid] or target > nums[right]:\n                right = mid - 1\n            else:\n                left = mid + 1\n     #the loop continues until left is greater than right, indicating that \n    # the target is not found in the array. In that case, the function returns -1.\n    return -1\n\n\n# Driver code\nnums = [4, 5, 6, 7, 0, 1, 2]\ntarget = 0\nprint(searchRotatedSortArray(nums, target))\n",
      "metadata": {
        "trusted": true
      },
      "execution_count": 7,
      "outputs": [
        {
          "name": "stdout",
          "text": "4\n",
          "output_type": "stream"
        }
      ]
    },
    {
      "cell_type": "code",
      "source": "",
      "metadata": {},
      "execution_count": null,
      "outputs": []
    }
  ]
}