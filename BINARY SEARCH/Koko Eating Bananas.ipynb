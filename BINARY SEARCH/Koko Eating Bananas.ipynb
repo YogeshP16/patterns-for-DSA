{
  "metadata": {
    "language_info": {
      "codemirror_mode": {
        "name": "python",
        "version": 3
      },
      "file_extension": ".py",
      "mimetype": "text/x-python",
      "name": "python",
      "nbconvert_exporter": "python",
      "pygments_lexer": "ipython3",
      "version": "3.8"
    },
    "kernelspec": {
      "name": "python",
      "display_name": "Python (Pyodide)",
      "language": "python"
    }
  },
  "nbformat_minor": 4,
  "nbformat": 4,
  "cells": [
    {
      "cell_type": "markdown",
      "source": "Koko loves to eat bananas. There are n piles of bananas, the ith pile has piles[i] bananas. The guards have gone and will come back in h hours.\nKoko can decide her bananas-per-hour eating speed of k. Each hour, she chooses some pile of bananas and eats k bananas from that pile. If the pile has less than k bananas, she eats all of them instead and will not eat any more bananas during this hour.\nKoko likes to eat slowly but still wants to finish eating all the bananas before the guards return.\n\nReturn the minimum integer k such that she can eat all the bananas within h hours.\n\nExample 1:\n\nInput: piles = [3,6,7,11], h = 8\nOutput: 4",
      "metadata": {}
    },
    {
      "cell_type": "markdown",
      "source": "find koko can eat all banana in less than or equal to 8 hours\n\ntc= O(n log m), where n is the number of piles and m is the maximum number of bananas in a pile. \no(n) -using for loop\no(logm) - binary search\nsc=O(1)",
      "metadata": {}
    },
    {
      "cell_type": "code",
      "source": "import math\n#method def\ndef minEatingSpeed(piles,h):\n    #int left ,right pointer\n    #left=1  , right to max\n    l,r=1,max(piles)\n    res= r\n    #binary search O(logm)\n    while l<= r:\n        k=(l+r)//2\n        #int hours  to 0 ..how many hours take to eat all banana\n        hours=0\n        \n        for p in piles:#o(n)\n            #ceil= round up the value\n            hours += math.ceil(p/k)\n        if hours <= h:\n            res = min(res,k)\n            r = k-1\n        else:\n            l=k+1\n    return res \n\npiles = [3,6,7,11]\nh = 8\nprint(minEatingSpeed(piles,h))",
      "metadata": {
        "trusted": true
      },
      "execution_count": 4,
      "outputs": [
        {
          "name": "stdout",
          "text": "4\n",
          "output_type": "stream"
        }
      ]
    },
    {
      "cell_type": "code",
      "source": "",
      "metadata": {},
      "execution_count": null,
      "outputs": []
    }
  ]
}