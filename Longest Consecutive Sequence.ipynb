{
  "metadata": {
    "language_info": {
      "codemirror_mode": {
        "name": "python",
        "version": 3
      },
      "file_extension": ".py",
      "mimetype": "text/x-python",
      "name": "python",
      "nbconvert_exporter": "python",
      "pygments_lexer": "ipython3",
      "version": "3.8"
    },
    "kernelspec": {
      "name": "python",
      "display_name": "Python (Pyodide)",
      "language": "python"
    }
  },
  "nbformat_minor": 4,
  "nbformat": 4,
  "cells": [
    {
      "cell_type": "markdown",
      "source": "Given an unsorted array of integers nums, return the length of the longest consecutive elements sequence.\n\nYou must write an algorithm that runs in O(n) time.\nExample 1:\n\nInput: nums = [100,4,200,1,3,2]\nOutput: 4\nExplanation: The longest consecutive elements sequence is [1, 2, 3, 4]. Therefore its length is 4.",
      "metadata": {}
    },
    {
      "cell_type": "code",
      "source": "# tc for inserting element in hashtable +\n# tc for searching element twice (if cond , while)\n# n*o(n)+2n*o(n)=o(n)\n\ntc=O(n)\nsc=O(n)\n\n#method def\ndef longestconseq(nums,n):\n    #intialize hash table\n    #variable longestlen\n    h=set(nums)\n    longestlen = 0\n    #taverse array and insert all elements to the hash table\n    for i in range(n):\n        #search nums[i] in hash table or not\n\n        if nums[i]-1 not in h:\n            currlen=1\n            currelement=nums[i]\n            #check for consecutive element in hashtable\n            while currelement+1 in h:\n                currlen+=1\n                currelement+=1\n                #updating len and longest consec seq\n            longestlen=max(longestlen,currlen)\n    return longestlen       \n            \n#driver code\nnums = [100,4,200,1,3,2]\nn=len(nums)\nprint(longestconseq(nums,n))",
      "metadata": {
        "trusted": true
      },
      "execution_count": 1,
      "outputs": [
        {
          "name": "stdout",
          "text": "4\n",
          "output_type": "stream"
        }
      ]
    },
    {
      "cell_type": "code",
      "source": "",
      "metadata": {},
      "execution_count": null,
      "outputs": []
    }
  ]
}